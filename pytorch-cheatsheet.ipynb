{
 "cells": [
  {
   "cell_type": "markdown",
   "metadata": {
    "heading_collapsed": true
   },
   "source": [
    "# Pytorch Cheatsheet"
   ]
  },
  {
   "cell_type": "markdown",
   "metadata": {
    "heading_collapsed": true,
    "hidden": true
   },
   "source": [
    "## Overview"
   ]
  },
  {
   "cell_type": "code",
   "execution_count": null,
   "metadata": {
    "collapsed": false,
    "hidden": true
   },
   "outputs": [],
   "source": [
    "* How does a Conv layer impact the size of output feature maps?\n",
    "* How does a Conv Transpose layer impact the size of the output feature maps?\n",
    "* How does padding / stride impact both of the above?\n",
    "\n",
    "Normal Convolution\n",
    "* W2 = (W1 - KS + 2P)/S + 1\n",
    "\n",
    "Convolution Transpose\n",
    "* W2 = S(W1 - 1) + KS - 2P"
   ]
  },
  {
   "cell_type": "markdown",
   "metadata": {
    "heading_collapsed": true,
    "hidden": true
   },
   "source": [
    "## Resources"
   ]
  },
  {
   "cell_type": "code",
   "execution_count": null,
   "metadata": {
    "collapsed": false,
    "hidden": true
   },
   "outputs": [],
   "source": [
    "* ss\n",
    "* ss\n",
    "* ss"
   ]
  },
  {
   "cell_type": "markdown",
   "metadata": {
    "heading_collapsed": true,
    "hidden": true
   },
   "source": [
    "## Imports"
   ]
  },
  {
   "cell_type": "code",
   "execution_count": null,
   "metadata": {
    "collapsed": false,
    "hidden": true
   },
   "outputs": [],
   "source": [
    "import torch\n",
    "import torch.nn as nn\n",
    "import torch.nn.init as init\n",
    "import torch.optim as optim\n",
    "import torch.nn.functional as F\n",
    "from torch.autograd import Variable\n",
    "import torchvision.datasets as datasets\n",
    "import torchvision.transforms as transforms\n",
    "import torchvision.utils as torch_img_utils\n",
    "from torch.utils.data import DataLoader\n",
    "import torchvision.models as models\n",
    "import torch.backends.cudnn as cudnn\n",
    "import torchvision\n",
    "import torch.autograd as autograd\n",
    "from PIL import Image\n",
    "import imp\n",
    "import os\n",
    "import sys\n",
    "import math\n",
    "import time\n",
    "import random\n",
    "import shutil\n",
    "import cv2\n",
    "import scipy.misc\n",
    "from glob import glob\n",
    "import sklearn\n",
    "import logging\n",
    "\n",
    "from tqdm import tqdm\n",
    "import numpy as np\n",
    "import matplotlib as mpl\n",
    "mpl.use('Agg')\n",
    "import matplotlib.pyplot as plt\n",
    "plt.style.use('bmh')\n",
    "\n",
    "%matplotlib inline"
   ]
  },
  {
   "cell_type": "markdown",
   "metadata": {
    "collapsed": true,
    "heading_collapsed": true
   },
   "source": [
    "# Basics"
   ]
  },
  {
   "cell_type": "markdown",
   "metadata": {
    "hidden": true
   },
   "source": [
    "## Tutorials"
   ]
  },
  {
   "cell_type": "markdown",
   "metadata": {
    "hidden": true
   },
   "source": [
    "* [Official Pytorch Tutorials](http://pytorch.org/tutorials/)\n",
    "* [Pytorch Documentation](http://pytorch.org/docs)"
   ]
  },
  {
   "cell_type": "markdown",
   "metadata": {
    "hidden": true
   },
   "source": [
    "## Tensors"
   ]
  },
  {
   "cell_type": "code",
   "execution_count": null,
   "metadata": {
    "collapsed": false,
    "hidden": true
   },
   "outputs": [],
   "source": []
  },
  {
   "cell_type": "markdown",
   "metadata": {
    "heading_collapsed": true
   },
   "source": [
    "# Datasets"
   ]
  },
  {
   "cell_type": "markdown",
   "metadata": {
    "heading_collapsed": true,
    "hidden": true
   },
   "source": [
    "## File Management"
   ]
  },
  {
   "cell_type": "code",
   "execution_count": null,
   "metadata": {
    "collapsed": false,
    "hidden": true
   },
   "outputs": [],
   "source": [
    "random.seed(1)\n",
    "torch.manual_seed(1)\n",
    "DATA_PATH='/media/bfortuner/bigguy/data/'\n",
    "CUB_PATH=DATA_PATH+'cub/'\n",
    "CUB_IMAGES_PATH=CUB_PATH+'images/'\n",
    "MNIST_PATH=DATA_PATH+'mnist/'\n",
    "MNIST_WEIGHTS_PATH=MNIST_PATH+'weights/'\n",
    "MNIST_RESULTS_PATH='results/'\n",
    "CIFAR10_PATH=DATA_PATH+'cifar10/'\n",
    "CIFAR10_IMGS_PATH=CIFAR10_PATH+'images/'\n",
    "CIFAR10_RESULTS_PATH=CIFAR10_PATH+'results/'\n",
    "CIFAR10_WEIGHTS_PATH=CIFAR10_PATH+'weights/'"
   ]
  },
  {
   "cell_type": "code",
   "execution_count": null,
   "metadata": {
    "collapsed": true,
    "hidden": true
   },
   "outputs": [],
   "source": [
    "def get_paths_to_files(dir_path):\n",
    "    filepaths = []\n",
    "    fnames = []\n",
    "    for (dirpath, dirnames, filenames) in os.walk(dir_path):\n",
    "        filepaths.extend(os.path.join(dirpath, f) for f in filenames if not f[0] == '.')\n",
    "        fnames.extend([f for f in filenames if not f[0] == '.'])\n",
    "    return filepaths, fnames\n",
    "\n",
    "def get_random_image_path(dir_path):\n",
    "    filepaths = get_paths_to_files(dir_path)[0]\n",
    "    return filepaths[random.randrange(len(filepaths))]"
   ]
  },
  {
   "cell_type": "markdown",
   "metadata": {
    "hidden": true
   },
   "source": [
    "## MNIST"
   ]
  },
  {
   "cell_type": "code",
   "execution_count": null,
   "metadata": {
    "collapsed": false,
    "hidden": true
   },
   "outputs": [],
   "source": [
    "MNIST_BATCH_SIZE = 128\n",
    "MNIST_MEAN = np.array([0.1307,])\n",
    "MNIST_STD = np.array([0.3081,])\n",
    "mnist_train_loader = torch.utils.data.DataLoader(\n",
    "    datasets.MNIST(MNIST_PATH, train=True, download=True,\n",
    "                   transform=transforms.Compose([\n",
    "                       transforms.ToTensor(),\n",
    "                       transforms.Normalize(MNIST_MEAN, MNIST_STD)\n",
    "                   ])),\n",
    "    batch_size=MNIST_BATCH_SIZE, shuffle=True)\n",
    "mnist_test_loader = torch.utils.data.DataLoader(\n",
    "    datasets.MNIST(MNIST_PATH, train=False, transform=transforms.Compose([\n",
    "                       transforms.ToTensor(),\n",
    "                       transforms.Normalize(MNIST_MEAN, MNIST_STD)\n",
    "                   ])),\n",
    "    batch_size=MNIST_BATCH_SIZE*8, shuffle=True)\n",
    "\n",
    "mnist_train_labels = mnist_train_loader.dataset.train_labels\n",
    "MNIST_CLASSES = np.unique(mnist_train_labels.numpy())\n",
    "print(\"MNIST Train Samples:\", len(mnist_train_loader.dataset))\n",
    "print(\"MNIST Test Samples:\", len(mnist_test_loader.dataset))"
   ]
  },
  {
   "cell_type": "markdown",
   "metadata": {
    "heading_collapsed": true,
    "hidden": true
   },
   "source": [
    "## CIFAR10"
   ]
  },
  {
   "cell_type": "code",
   "execution_count": null,
   "metadata": {
    "collapsed": false,
    "hidden": true
   },
   "outputs": [],
   "source": [
    "CIFAR_BATCH_SIZE = 64\n",
    "CIFAR_MEAN = np.array([0.49139968, 0.48215827, 0.44653124])\n",
    "CIFAR_STD = np.array([0.24703233, 0.24348505, 0.26158768])\n",
    "normTransform = transforms.Normalize(CIFAR_MEAN, CIFAR_STD)\n",
    "\n",
    "trainTransform = transforms.Compose([\n",
    "    transforms.RandomCrop(32, padding=4),\n",
    "    transforms.RandomHorizontalFlip(),\n",
    "    transforms.ToTensor(),\n",
    "    normTransform\n",
    "])\n",
    "testTransform = transforms.Compose([\n",
    "    transforms.ToTensor(),\n",
    "    normTransform\n",
    "])\n",
    "\n",
    "cifar_train_loader = torch.utils.data.DataLoader(\n",
    "    datasets.CIFAR10(CIFAR10_IMGS_PATH, train=True, download=True,\n",
    "                 transform=trainTransform),\n",
    "    batch_size=CIFAR_BATCH_SIZE, shuffle=True)\n",
    "cifar_test_loader = torch.utils.data.DataLoader(\n",
    "    datasets.CIFAR10(CIFAR10_IMGS_PATH, train=False, download=True,\n",
    "                 transform=testTransform),\n",
    "    batch_size=CIFAR_BATCH_SIZE*16, shuffle=False)\n",
    "\n",
    "cifar_classes = cifar_train_loader.dataset.train_labels\n",
    "CIFAR_CLASSES = np.unique(np.array(cifar_classes))\n",
    "CIFAR_CLASS_NAMES = np.array(['airplane','automobile','bird','cat',\n",
    "                          'deer','dog','frog', 'horse','ship','truck'])\n",
    "print(\"CIFAR Train Samples:\", len(cifar_train_loader.dataset))\n",
    "print(\"CIFAR Test Samples:\", len(cifar_test_loader.dataset))"
   ]
  },
  {
   "cell_type": "markdown",
   "metadata": {
    "heading_collapsed": true,
    "hidden": true
   },
   "source": [
    "## Swiss Roll"
   ]
  },
  {
   "cell_type": "code",
   "execution_count": null,
   "metadata": {
    "collapsed": false,
    "hidden": true
   },
   "outputs": [],
   "source": [
    "from sklearn.datasets.samples_generator import make_swiss_roll\n",
    "\n",
    "def get_swiss_roll(n_samples=100):\n",
    "    noise = 0.2\n",
    "    X, _ = make_swiss_roll(n_samples, noise)\n",
    "    X = X.astype('float32')[:, [0, 2]]\n",
    "    return X, _\n",
    "\n",
    "def plot_roll(data):\n",
    "    # data.shape = (N, 2)\n",
    "    if type(data) != np.ndarray:\n",
    "        data = data.numpy()\n",
    "    x = data[:,0]\n",
    "    y = data[:,1]\n",
    "    plt.scatter(x,y)\n",
    "\n",
    "SWISS_ROLL_BATCH_SIZE = 100\n",
    "X, _ = get_swiss_roll(100)\n",
    "swiss_roll_dataset = torch.utils.data.TensorDataset(torch.FloatTensor(X), torch.FloatTensor(_))\n",
    "swiss_roll_loader = torch.utils.data.DataLoader(swiss_roll_dataset, batch_size=SWISS_ROLL_BATCH_SIZE, shuffle=True)\n",
    "    \n",
    "# Test\n",
    "data = get_swiss_roll(1000)[0]\n",
    "plot_roll(data)\n",
    "inputs,targets = next(iter(swiss_roll_loader))\n",
    "print(inputs.size(),targets.size())\n",
    "plot_roll(inputs)"
   ]
  },
  {
   "cell_type": "markdown",
   "metadata": {
    "heading_collapsed": true
   },
   "source": [
    "# Image Handling"
   ]
  },
  {
   "cell_type": "markdown",
   "metadata": {
    "heading_collapsed": true,
    "hidden": true
   },
   "source": [
    "## Preprocessing"
   ]
  },
  {
   "cell_type": "code",
   "execution_count": null,
   "metadata": {
    "collapsed": false,
    "hidden": true
   },
   "outputs": [],
   "source": []
  },
  {
   "cell_type": "markdown",
   "metadata": {
    "heading_collapsed": true,
    "hidden": true
   },
   "source": [
    "## Viewing"
   ]
  },
  {
   "cell_type": "code",
   "execution_count": null,
   "metadata": {
    "collapsed": false,
    "hidden": true
   },
   "outputs": [],
   "source": [
    "def imshow(inp, mean_arr, std_arr, title=None):\n",
    "    \"\"\"Imshow for Tensor.\"\"\"\n",
    "    if inp.size(0) == 1:\n",
    "        inp = np.squeeze(inp.numpy())\n",
    "        kwargs = {'cmap':'gray'}\n",
    "    else:\n",
    "        inp = inp.numpy().transpose((1, 2, 0))\n",
    "        kwargs = {}\n",
    "    inp = std_arr * inp + mean_arr\n",
    "    plt.imshow(inp, **kwargs)\n",
    "    if title is not None:\n",
    "        plt.title(title)\n",
    "    plt.pause(0.001)  # pause a bit so that plots are updated\n",
    "\n",
    "def visualize_preds(model, data_loader, class_names, mean_arr, std_arr, num_images=6):\n",
    "    images_so_far = 0\n",
    "    fig = plt.figure()\n",
    "\n",
    "    for i, data in enumerate(data_loader):\n",
    "        inputs, labels = data\n",
    "        inputs, labels = Variable(inputs.cuda()), Variable(labels.cuda())\n",
    "\n",
    "        outputs = model(inputs)\n",
    "        _, preds = torch.max(outputs.data, 1)\n",
    "        preds = preds.cpu().numpy()\n",
    "        labels = labels.data.cpu().numpy()\n",
    "        for j in range(inputs.size()[0]):\n",
    "            images_so_far += 1\n",
    "            ax = plt.subplot(num_images//2, 2, images_so_far)\n",
    "            ax.axis('off')\n",
    "            ax.set_title('P: {}, A:{}'.format(class_names[preds[j][0]], \n",
    "                                              class_names[labels[j]]))\n",
    "            imshow(inputs.cpu().data[j], mean_arr, std_arr)\n",
    "\n",
    "            if images_so_far == num_images:\n",
    "                return\n",
    "        plt.tight_layout()\n",
    "\n",
    "def plot_mnist_samples(arr, dim=(4,4), figsize=(6,6)):\n",
    "    if type(arr) is not np.ndarray:\n",
    "        arr = arr.numpy()\n",
    "    bs = arr.shape[0]\n",
    "    arr = arr.reshape(bs, 28, 28)\n",
    "    plt.figure(figsize=figsize)\n",
    "    for i,img in enumerate(arr):\n",
    "        plt.subplot(*dim, i+1)\n",
    "        plt.imshow(img, cmap='gray')\n",
    "        plt.axis('off')\n",
    "    plt.tight_layout()\n",
    "\n",
    "def denorm_meanstd(t, mean, std):\n",
    "    return (t * std) + mean\n",
    "\n",
    "def plot_cifar_samples(arr, dim=(4,4), figsize=(6,6)):\n",
    "    if type(arr) is not np.ndarray:\n",
    "        arr = arr.numpy().transpose((0, 2, 3, 1))\n",
    "    arr = denorm_meanstd(arr, CIFAR_MEAN, CIFAR_STD)\n",
    "    plt.figure(figsize=figsize)\n",
    "    for i,img in enumerate(arr):\n",
    "        plt.subplot(*dim, i+1)\n",
    "        plt.imshow(img, cmap='gray')\n",
    "        plt.axis('off')\n",
    "    plt.tight_layout()\n",
    "    \n",
    "def get_cifar_batch_of_size(bs):\n",
    "    # Return batchsize smaller than 64 for testing\n",
    "    inputs,targets = next(iter(cifar_test_loader))\n",
    "    return inputs[:bs], targets[:bs]\n",
    "\n",
    "def get_mnist_batch(bs):\n",
    "    train_loader = torch.utils.data.DataLoader(\n",
    "        datasets.MNIST(MNIST_PATH, train=True, download=True,\n",
    "                       transform=transforms.Compose([\n",
    "                           transforms.ToTensor(),\n",
    "                           transforms.Normalize(MNIST_MEAN, MNIST_STD)\n",
    "                       ])),\n",
    "        batch_size=bs, shuffle=True)\n",
    "    inputs,targets = next(iter(train_loader))\n",
    "    return inputs,targets\n",
    "\n",
    "inps,targs = get_mnist_batch(12)\n",
    "plot_mnist_samples(inps)"
   ]
  },
  {
   "cell_type": "code",
   "execution_count": null,
   "metadata": {
    "collapsed": false,
    "hidden": true
   },
   "outputs": [],
   "source": [
    "inputs,targets = get_cifar_batch_of_size(12)\n",
    "plot_cifar_samples(inputs)"
   ]
  },
  {
   "cell_type": "markdown",
   "metadata": {
    "heading_collapsed": true
   },
   "source": [
    "# Models"
   ]
  },
  {
   "cell_type": "markdown",
   "metadata": {
    "heading_collapsed": true,
    "hidden": true
   },
   "source": [
    "## Logging"
   ]
  },
  {
   "cell_type": "code",
   "execution_count": null,
   "metadata": {
    "collapsed": false,
    "hidden": true
   },
   "outputs": [],
   "source": [
    "#https://docs.python.org/3/howto/logging-cookbook.html\n",
    "\n",
    "def get_logger(ch_log_level=logging.ERROR, \n",
    "               fh_log_level=logging.INFO):\n",
    "    logging.shutdown()\n",
    "    imp.reload(logging)\n",
    "    logger = logging.getLogger(\"cheatsheet\")\n",
    "    logger.setLevel(logging.DEBUG)\n",
    "    \n",
    "    # Console Handler\n",
    "    if ch_log_level:\n",
    "        ch = logging.StreamHandler()\n",
    "        ch.setLevel(ch_log_level)\n",
    "        ch.setFormatter(logging.Formatter('%(message)s'))\n",
    "        logger.addHandler(ch)\n",
    "    \n",
    "    # File Handler\n",
    "    if fh_log_level:\n",
    "        fh = logging.FileHandler('cheatsheet.log')\n",
    "        fh.setLevel(fh_log_level)\n",
    "        formatter = logging.Formatter('%(asctime)s - %(levelname)s - %(message)s')\n",
    "        fh.setFormatter(formatter)\n",
    "        logger.addHandler(fh)\n",
    "\n",
    "    return logger\n",
    "\n",
    "#Test\n",
    "logger = get_logger() #Singleton\n",
    "logger.info(\"LOG TO FILE\")\n",
    "logger.error(\"LOG TO FILE and CONSOLE\")\n",
    "\n",
    "logger = get_logger(ch_log_level=logging.DEBUG, \n",
    "               fh_log_level=None)\n",
    "logger.debug(\"Init Console Logger Only\")"
   ]
  },
  {
   "cell_type": "markdown",
   "metadata": {
    "heading_collapsed": true,
    "hidden": true
   },
   "source": [
    "## Linear"
   ]
  },
  {
   "cell_type": "code",
   "execution_count": null,
   "metadata": {
    "collapsed": true,
    "hidden": true
   },
   "outputs": [],
   "source": [
    "class LinearNetMNIST(nn.Module):\n",
    "    def __init__(self):\n",
    "        super(LinearNetMNIST, self).__init__()\n",
    "        #Let's start with an input of (bs, 784)\n",
    "        self.layer1 = nn.Linear(784, 500)\n",
    "        self.layer2 = nn.Linear(500, 250)\n",
    "        self.layer3 = nn.Linear(250, 10)\n",
    "        self.softmax = nn.Softmax()\n",
    "        \n",
    "    def forward(self, x):\n",
    "        x = x.view(x.size(0), -1)\n",
    "        x = self.layer1(x)\n",
    "        x = self.layer2(x)\n",
    "        x = self.layer3(x)\n",
    "        x = self.softmax(x)\n",
    "        return x\n",
    "    \n",
    "class LinearNetCIFAR(nn.Module):\n",
    "    def __init__(self):\n",
    "        super(LinearNetCIFAR, self).__init__()\n",
    "        #Let's start with an input of (bs, 3, 32, 32)\n",
    "        #We flatten it to fit the first linear layer\n",
    "        #(bs,32*32*3)\n",
    "        self.layer1 = nn.Linear(3072, 512)\n",
    "        self.relu1 = nn.ReLU()\n",
    "        self.layer2 = nn.Linear(512, 256)\n",
    "        self.relu2 = nn.ReLU()\n",
    "        self.layer3 = nn.Linear(256, 10)\n",
    "        self.softmax = nn.Softmax()\n",
    "        \n",
    "    def forward(self, x):\n",
    "        x = x.view(x.size(0), -1) #(bs,3*32*32)\n",
    "        x = self.layer1(x)\n",
    "        x = self.relu1(x)\n",
    "        x = self.layer2(x)\n",
    "        x = self.relu2(x)\n",
    "        x = self.layer3(x)\n",
    "        x = self.softmax(x)\n",
    "        return x"
   ]
  },
  {
   "cell_type": "code",
   "execution_count": null,
   "metadata": {
    "collapsed": false,
    "hidden": true
   },
   "outputs": [],
   "source": [
    "#MNIST\n",
    "inputs, targets = get_mnist_batch(2)\n",
    "net = LinearNetMNIST()\n",
    "print(net(Variable(inputs)))\n",
    "\n",
    "#CIFAR\n",
    "inputs, targets = get_cifar_batch_of_size(2)\n",
    "net2 = LinearNetCIFAR()\n",
    "print(net2(Variable(inputs)))"
   ]
  },
  {
   "cell_type": "markdown",
   "metadata": {
    "heading_collapsed": true,
    "hidden": true
   },
   "source": [
    "## CNN"
   ]
  },
  {
   "cell_type": "markdown",
   "metadata": {
    "hidden": true
   },
   "source": [
    "Tips and Guidelines\n",
    "http://cs231n.github.io/convolutional-networks/\n",
    "\n",
    "* The input layer (that contains the image) should be divisible by 2 many times\n",
    "* The conv layers should be using small filters (e.g. 3x3 or at most 5x5), using a stride of S=1, and crucially, padding the input volume with zeros in such way that the conv layer does not alter the spatial dimensions of the input. That is, when FS=3, then using P=1 will retain the original size of the input. When FS=5, P=2. For a general FS, it can be seen that P = (FS − 1)/2 preserves the input size. \n",
    "* The pool layers are in charge of downsampling the spatial dimensions of the input. Introduces zero parameters since it simply computes a fixed function of the input. The most common setting is to use max-pooling with 2x2 receptive fields (i.e. FS=2), and with a stride of 2 (i.e. S=2). Output dimensions equal W2 = (W1 − FS)/S + 1."
   ]
  },
  {
   "cell_type": "code",
   "execution_count": null,
   "metadata": {
    "collapsed": false,
    "hidden": true
   },
   "outputs": [],
   "source": [
    "class BasicCNN(nn.Module):\n",
    "    def __init__(self, logger=None):\n",
    "        super(BasicCNN, self).__init__()\n",
    "        self.logger = logger\n",
    "        # Input (bs, 3, 32, 32)\n",
    "        # W2 = (W1 - KS + 2P) / S + 1\n",
    "        self.conv1 = nn.Conv2d(in_channels=3, out_channels=50, kernel_size=2, stride=1, padding=0)\n",
    "        # (bs, 50, 31, 31)\n",
    "        self.conv2 = nn.Conv2d(in_channels=50, out_channels=100, kernel_size=2, stride=1, padding=0)\n",
    "        # (bs, 100, 30, 30)\n",
    "        self.linear = nn.Linear(in_features=100*30*30, out_features=10) # \"affine\" (linear) op\n",
    "        # (bs, 10)\n",
    "        self.softmax = nn.Softmax()\n",
    "    \n",
    "    def log(self, msg):\n",
    "        if self.logger:\n",
    "            self.logger.debug(msg)\n",
    "\n",
    "    def forward(self, x):\n",
    "        self.log(x.size())\n",
    "        x = self.conv1(x)\n",
    "        self.log(x.size())\n",
    "        x = self.conv2(x)\n",
    "        self.log(x.size())\n",
    "        x = x.view(x.size(0), -1) #(bs,100*30*30)\n",
    "        self.log(x.size())\n",
    "        x = self.linear(x)\n",
    "        self.log(x.size())\n",
    "        x = self.softmax(x)\n",
    "        return x\n",
    "    \n",
    "class DeeperCNN(nn.Module):\n",
    "    def __init__(self, logger=None):\n",
    "        super(DeeperCNN, self).__init__()\n",
    "        self.logger = logger\n",
    "        # Input (bs, 3, 32, 32)\n",
    "        # Conv Dimensions - W2 = (W1-FS+2P)/S + 1)\n",
    "        self.conv1 = nn.Conv2d(in_channels=3, out_channels=64, kernel_size=3, stride=1, padding=1)\n",
    "        # (bs, 64, 32, 32)\n",
    "        self.bn1 = nn.BatchNorm2d(num_features=64, momentum=0.9)\n",
    "        self.relu1 = nn.ReLU()\n",
    "        self.conv2 = nn.Conv2d(in_channels=64, out_channels=128, kernel_size=3, stride=1, padding=1)\n",
    "        # (bs, 128, 32, 32)\n",
    "        self.bn2 = nn.BatchNorm2d(num_features=128, momentum=0.9)\n",
    "        self.relu2 = nn.ReLU()\n",
    "        # Pooling Dimensions - W2 = (W1 − FS)/S + 1\n",
    "        self.pool = nn.MaxPool2d(kernel_size=2, stride=2) #shrinks by half)\n",
    "        # (bs, 128, 16, 16)\n",
    "        self.linear1 = nn.Linear(in_features=128*16*16, out_features=512)\n",
    "        # (bs, 512)\n",
    "        self.dropout = nn.Dropout(p=0.5)\n",
    "        self.linear2 = nn.Linear(in_features=512, out_features=10)\n",
    "        # (bs, 10)\n",
    "        self.softmax = nn.Softmax()\n",
    "    \n",
    "    def log(self, msg):\n",
    "        if self.logger:\n",
    "            self.logger.debug(msg)\n",
    "\n",
    "    def forward(self, x):\n",
    "        self.log(x.size())\n",
    "\n",
    "        x = self.relu1(self.bn1(self.conv1(x)))\n",
    "        self.log(x.size())\n",
    "        \n",
    "        x = self.relu2(self.bn2(self.conv2(x)))\n",
    "        self.log(x.size())\n",
    "        \n",
    "        x = self.pool(x)\n",
    "        self.log(x.size())\n",
    "            \n",
    "        x = x.view(x.size(0), -1)\n",
    "        self.log(x.size())\n",
    "        \n",
    "        x = self.linear1(x)\n",
    "        self.log(x.size())\n",
    "        \n",
    "        x = self.dropout(x)\n",
    "        \n",
    "        x = self.linear2(x)\n",
    "        self.log(x.size())\n",
    "        \n",
    "        x = self.softmax(x)\n",
    "        return x"
   ]
  },
  {
   "cell_type": "code",
   "execution_count": null,
   "metadata": {
    "collapsed": false,
    "hidden": true
   },
   "outputs": [],
   "source": [
    "logger = get_logger(logging.DEBUG, logging.DEBUG)\n",
    "net = BasicCNN(logger)\n",
    "inputs,targets = next(iter(cifar_train_loader))\n",
    "inputs = Variable(inputs[:2])\n",
    "net(inputs)\n",
    "\n",
    "net = DeeperCNN(logger)\n",
    "inputs,targets = next(iter(cifar_train_loader))\n",
    "inputs = Variable(inputs[:2])\n",
    "net(inputs)"
   ]
  },
  {
   "cell_type": "markdown",
   "metadata": {
    "hidden": true
   },
   "source": [
    "## GAN"
   ]
  },
  {
   "cell_type": "code",
   "execution_count": null,
   "metadata": {
    "collapsed": true,
    "hidden": true
   },
   "outputs": [],
   "source": []
  },
  {
   "cell_type": "markdown",
   "metadata": {
    "heading_collapsed": true
   },
   "source": [
    "# Training"
   ]
  },
  {
   "cell_type": "markdown",
   "metadata": {
    "heading_collapsed": true,
    "hidden": true
   },
   "source": [
    "## Helpers"
   ]
  },
  {
   "cell_type": "code",
   "execution_count": null,
   "metadata": {
    "collapsed": true,
    "hidden": true
   },
   "outputs": [],
   "source": [
    "def train(net, dataloader, criterion, optimizer, epoch=1):\n",
    "    n_batches = len(dataloader)\n",
    "    total_loss = 0\n",
    "    for inputs,targets in dataloader:\n",
    "        inputs = Variable(inputs.cuda())\n",
    "        targets = Variable(targets.cuda())\n",
    "        \n",
    "        ## Forward Pass\n",
    "        out = net(inputs)\n",
    "        \n",
    "        ## Clear Gradients\n",
    "        net.zero_grad()\n",
    "        \n",
    "        ## Get Loss\n",
    "        loss = criterion(out, targets)\n",
    "    \n",
    "        ## Backprop\n",
    "        loss.backward()\n",
    "        optimizer.step()\n",
    "        \n",
    "        total_loss += loss.data[0]\n",
    "    \n",
    "    return total_loss / n_batches\n",
    "\n",
    "def predict(net, inputs):\n",
    "    out = net(inputs)\n",
    "    val,idx = torch.max(out,dim=1)\n",
    "    return idx.data.cpu().view(-1)\n",
    "\n",
    "def get_metrics(net, test_loader, criterion):\n",
    "    data,targets = next(iter(test_loader)) #1000??\n",
    "    inputs,labels = Variable(data.cuda()), Variable(targets.cuda())\n",
    "    \n",
    "    outputs = net(inputs)\n",
    "    loss = criterion(outputs, labels).data[0]\n",
    "    \n",
    "    #Flatten and Get ArgMax to compute accuracy\n",
    "    val,idx = torch.max(outputs,dim=1)\n",
    "    predictions = idx.data.cpu().view(-1).numpy()    \n",
    "    targets = targets.numpy()\n",
    "    correct = np.sum(predictions==targets)\n",
    "    accuracy = correct / len(targets)\n",
    "    \n",
    "    return loss, accuracy"
   ]
  },
  {
   "cell_type": "code",
   "execution_count": null,
   "metadata": {
    "collapsed": true,
    "hidden": true
   },
   "outputs": [],
   "source": [
    "def adjust_learning_rate(lr, optimizer, cur_epoch, decay=.995, n_epochs=1):\n",
    "    \"\"\"Sets the optimizers learning rate to be the original `lr` \n",
    "    multiplied by `decay` every `n_epochs`\n",
    "    \n",
    "    # Arguments\n",
    "        lr: global learning rate defined at start of training\n",
    "        optimizer: your optimizer\n",
    "        cur_epoch: current epochs in training\n",
    "        decay: (.995)\n",
    "        n_epochs: number of epochs per new application of `decay`\n",
    "        \n",
    "    # Output\n",
    "        None: Updates optimizer in-place\n",
    "    \"\"\"\n",
    "    new_lr = lr * (decay ** (cur_epoch // n_epochs))\n",
    "    for param_group in optimizer.param_groups:\n",
    "        param_group['lr'] = new_lr"
   ]
  },
  {
   "cell_type": "markdown",
   "metadata": {
    "heading_collapsed": true,
    "hidden": true
   },
   "source": [
    "## MNIST"
   ]
  },
  {
   "cell_type": "code",
   "execution_count": null,
   "metadata": {
    "collapsed": false,
    "hidden": true
   },
   "outputs": [],
   "source": [
    "# Linear Model\n",
    "mnistnet = LinearNetMNIST().cuda()\n",
    "\n",
    "N_EPOCHS = 5\n",
    "criterion = nn.CrossEntropyLoss().cuda()\n",
    "optimizer = optim.Adam(mnistnet.parameters(), lr=1e-4)"
   ]
  },
  {
   "cell_type": "code",
   "execution_count": null,
   "metadata": {
    "collapsed": false,
    "hidden": true
   },
   "outputs": [],
   "source": [
    "train_loss_history = []\n",
    "test_loss_history = []\n",
    "test_acc_history = []\n",
    "for epoch in range(1, N_EPOCHS+1):\n",
    "    train_loss = train(mnistnet, mnist_train_loader, criterion, optimizer, epoch)\n",
    "    test_loss, test_acc = get_metrics(mnistnet, mnist_test_loader, criterion)\n",
    "    print('Epoch %d, TrainLoss: %.3f, TestLoss: %.3f, TestAcc: %.3f' % (\n",
    "        epoch, train_loss, test_loss, test_acc))\n",
    "    train_loss_history.append(train_loss)\n",
    "    test_loss_history.append(test_loss)\n",
    "    test_acc_history.append(test_acc)"
   ]
  },
  {
   "cell_type": "code",
   "execution_count": null,
   "metadata": {
    "collapsed": false,
    "hidden": true
   },
   "outputs": [],
   "source": [
    "plt.plot(np.stack([train_loss_history, test_loss_history],1))"
   ]
  },
  {
   "cell_type": "code",
   "execution_count": null,
   "metadata": {
    "collapsed": false,
    "hidden": true
   },
   "outputs": [],
   "source": [
    "plt.plot(test_acc_history)"
   ]
  },
  {
   "cell_type": "code",
   "execution_count": null,
   "metadata": {
    "collapsed": false,
    "hidden": true
   },
   "outputs": [],
   "source": [
    "visualize_preds(mnistnet, mnist_test_loader, MNIST_CLASSES, MNIST_MEAN, MNIST_STD, 6)"
   ]
  },
  {
   "cell_type": "markdown",
   "metadata": {
    "heading_collapsed": true,
    "hidden": true
   },
   "source": [
    "## CIFAR"
   ]
  },
  {
   "cell_type": "code",
   "execution_count": null,
   "metadata": {
    "collapsed": false,
    "hidden": true
   },
   "outputs": [],
   "source": [
    "# Linear Model\n",
    "cifarnet = LinearNetCIFAR().cuda()\n",
    "\n",
    "# Basic CNN\n",
    "cifarnet = BasicCNN().cuda()\n",
    "\n",
    "# Deeper CNN\n",
    "cifarnet = DeeperCNN().cuda()\n",
    "\n",
    "N_EPOCHS = 5\n",
    "criterion = nn.CrossEntropyLoss().cuda()\n",
    "optimizer = optim.Adam(cifarnet.parameters(), lr=1e-4)\n",
    "\n",
    "print('  + Number of params: {}'.format(\n",
    "    sum([p.data.nelement() for p in cifarnet.parameters()])))"
   ]
  },
  {
   "cell_type": "code",
   "execution_count": null,
   "metadata": {
    "collapsed": false,
    "hidden": true
   },
   "outputs": [],
   "source": [
    "train_loss_history = []\n",
    "test_loss_history = []\n",
    "test_acc_history = []\n",
    "for epoch in range(1, N_EPOCHS+1):\n",
    "    train_loss = train(cifarnet, cifar_train_loader, criterion, optimizer, epoch)\n",
    "    test_loss, test_acc = get_metrics(cifarnet, cifar_test_loader, criterion)\n",
    "    print('Epoch %d, TrainLoss: %.3f, TestLoss: %.3f, TestAcc: %.3f' % (\n",
    "        epoch, train_loss, test_loss, test_acc))\n",
    "    train_loss_history.append(train_loss)\n",
    "    test_loss_history.append(test_loss)\n",
    "    test_acc_history.append(test_acc)"
   ]
  },
  {
   "cell_type": "code",
   "execution_count": null,
   "metadata": {
    "collapsed": false,
    "hidden": true
   },
   "outputs": [],
   "source": [
    "plt.plot(np.stack([train_loss_history, test_loss_history],1))"
   ]
  },
  {
   "cell_type": "code",
   "execution_count": null,
   "metadata": {
    "collapsed": false,
    "hidden": true
   },
   "outputs": [],
   "source": [
    "plt.plot(test_acc_history)"
   ]
  },
  {
   "cell_type": "code",
   "execution_count": null,
   "metadata": {
    "collapsed": false,
    "hidden": true
   },
   "outputs": [],
   "source": [
    "visualize_preds(cifarnet, cifar_test_loader, CIFAR_CLASS_NAMES, CIFAR_MEAN, CIFAR_STD, 6)"
   ]
  },
  {
   "cell_type": "markdown",
   "metadata": {
    "heading_collapsed": true
   },
   "source": [
    "# Experiments"
   ]
  },
  {
   "cell_type": "markdown",
   "metadata": {
    "hidden": true
   },
   "source": [
    "## Load/Save Weights"
   ]
  },
  {
   "cell_type": "code",
   "execution_count": null,
   "metadata": {
    "collapsed": true,
    "hidden": true
   },
   "outputs": [],
   "source": [
    "def save_weights(model, weights_dir, trn_loss, val_loss, trn_err, \n",
    "                 val_err, expr_name, epoch, is_best_loss=False):\n",
    "    weights_fname = name+'-weights-%d-%.3f-%.3f-%.3f-%.3f.pth' % (\n",
    "        epoch, trn_loss, trn_err, val_loss, val_err)\n",
    "    weights_fpath = os.path.join(weights_dir, weights_fname)\n",
    "    torch.save({\n",
    "            'last_epoch': epoch,\n",
    "            'trn_loss': trn_loss,\n",
    "            'val_loss': val_loss,\n",
    "            'trn_err': trn_err,\n",
    "            'val_err': val_err,\n",
    "            'experiment': expr_name,\n",
    "            'state_dict': model.state_dict()\n",
    "        }, weights_fpath )\n",
    "    shutil.copyfile(weights_fpath, 'latest.pth')\n",
    "    if is_best_loss:\n",
    "        shutil.copyfile(weights_fpath, 'best.pth')\n",
    "\n",
    "def load_weights(self, model, fpath, expr_name):\n",
    "    print(\"loading weights '{}'\".format(fpath))\n",
    "    state = torch.load(fpath)\n",
    "    model.load_state_dict(state['state_dict'])\n",
    "    print (state['trn_err'], state['val_loss'], state['val_err'])\n",
    "    print(\"loaded weights from experiment %s (last_epoch %d, trn_loss %s, trn_err %s, val_loss %s, val_err %s)\" % (\n",
    "              expr_name, state['last_epoch'], state['trn_loss'],\n",
    "                state['trn_err'], state['val_loss'], state['val_err']))\n",
    "    return model, state\n",
    "\n",
    "def save_optimizer(optimizer, epoch, sessionName):\n",
    "    optim_fname = sessionName+'-optim-%d.pth' % (epoch)\n",
    "    optim_fpath = os.path.join(WEIGHTS_PATH, optim_fname)\n",
    "    torch.save({\n",
    "            'lastEpoch': epoch,\n",
    "            'sessionName': sessionName,\n",
    "            'state_dict': optimizer.state_dict()\n",
    "        }, optim_fpath )\n",
    "    shutil.copyfile(optim_fpath, WEIGHTS_PATH+'latest-optim.pth')\n",
    "\n",
    "def load_optimizer(optimizer, fpath):\n",
    "    print(\"loading optimizer '{}'\".format(fpath))\n",
    "    optim = torch.load(fpath)\n",
    "    optimizer.load_state_dict(optim['state_dict'])\n",
    "    print(\"loaded optimizer from session {}, lastEpoch {}\"\n",
    "          .format(optim['sessionName'], optim['lastEpoch']))"
   ]
  },
  {
   "cell_type": "markdown",
   "metadata": {
    "heading_collapsed": true,
    "hidden": true
   },
   "source": [
    "## Visdom Web Server"
   ]
  },
  {
   "cell_type": "code",
   "execution_count": null,
   "metadata": {
    "collapsed": true,
    "hidden": true
   },
   "outputs": [],
   "source": [
    "# https://github.com/facebookresearch/visdom\n",
    "import visdom\n",
    "viz = visdom.Visdom()"
   ]
  },
  {
   "cell_type": "code",
   "execution_count": null,
   "metadata": {
    "collapsed": true,
    "hidden": true
   },
   "outputs": [],
   "source": [
    "def viz_plot_tst_trn(window, epoch, tst_val, trn_val, name='loss', env='main'):\n",
    "    if window is None:\n",
    "        return viz.line(\n",
    "            X=np.array([epoch]),\n",
    "            Y=np.array([[tst_val, trn_val]]),\n",
    "            opts=dict(\n",
    "                xlabel='epoch',\n",
    "                ylabel=name,\n",
    "                title=env+' '+name,\n",
    "                legend=['Validation', 'Train']\n",
    "            ),\n",
    "            env=env\n",
    "        )\n",
    "    return viz.line(\n",
    "        X=np.ones((1, 2)) * epoch,\n",
    "        Y=np.expand_dims([tst_val, trn_val],0),\n",
    "        win=window,\n",
    "        update='append',\n",
    "        env=env\n",
    "    )\n",
    "\n",
    "def viz_plot_img(window, arr, mean, std, env='main', title='Image'):\n",
    "    '''\n",
    "    This function draws an img on your Visdom web app. \n",
    "    It takes as input an `CxHxW` tensor `img`\n",
    "    The array values can be float in [0,1] or uint8 in [0, 255]'''\n",
    "    if type(arr) is not np.ndarray:\n",
    "        arr = arr.numpy().transpose((1, 2, 0))\n",
    "    arr = denorm_meanstd(arr, mean, std)\n",
    "    arr = arr.transpose((2, 0, 1))\n",
    "    viz.image(\n",
    "        arr,\n",
    "        opts=dict(title=title, caption='Silly image'),\n",
    "        win=window,\n",
    "        env=env\n",
    "    )\n",
    "    \n",
    "def viz_plot_text(window, text, env='main'):\n",
    "    if window is None:\n",
    "        return viz.text(\n",
    "            text,\n",
    "            env=env\n",
    "        )\n",
    "    return viz.text(\n",
    "        text,\n",
    "        win=window,\n",
    "        env=env\n",
    "    )\n",
    "\n",
    "def viz_plot_summary(window, epoch, tst_loss, trn_loss,\n",
    "                       tst_err, trn_err, env='main'):\n",
    "    txt = (\"\"\"Epoch: %d\n",
    "        Train - Loss: %.3f Err: %.3f\n",
    "        Test - Loss: %.3f Err: %.3f\"\"\" % (epoch, \n",
    "        trn_loss, trn_err, tst_loss, tst_err))\n",
    "    return viz_plot_text(window, txt, env)"
   ]
  },
  {
   "cell_type": "code",
   "execution_count": null,
   "metadata": {
    "collapsed": false,
    "hidden": true
   },
   "outputs": [],
   "source": [
    "#Visit http://localhost:8097 to view plots\n",
    "\n",
    "#Should plot one chart and update it\n",
    "txt_chart = viz_plot_summary(None, 1, 2, 3, 4, 5)\n",
    "txt_chart = viz_plot_summary(txt_chart, 5, 2, 3, 4, 5)\n",
    "txt_chart = viz_plot_summary(txt_chart, 5, 3, 8, 7, 6)\n",
    "\n",
    "#Should plot one chart and update it\n",
    "sum_chart = viz_plot_text(None, 'Hello, world3!')\n",
    "sum_chart = viz_plot_text(sum_chart, 'Hello, world4!')\n",
    "\n",
    "#Should plot one chart and update it\n",
    "#window, epoch, tst_val, trn_val, name='loss', env='main'\n",
    "loss_chart = viz_plot_tst_trn(None, 9, 14, 27, 'loss')\n",
    "loss_chart = viz_plot_tst_trn(loss_chart, 10, 18, 30, 'loss')\n",
    "loss_chart = viz_plot_tst_trn(loss_chart, 11, 19, 32, 'loss')\n",
    "\n",
    "#Should plot one chart and update it\n",
    "#window, epoch, tst_val, trn_val, name='loss', env='main'\n",
    "err_chart = viz_plot_tst_trn(None, 9, 14, 27, 'error')\n",
    "err_chart = viz_plot_tst_trn(err_chart, 10, 18, 30, 'error')\n",
    "err_chart = viz_plot_tst_trn(err_chart, 11, 19, 32, 'error')\n",
    "\n",
    "# Plot Image\n",
    "inputs, targets = next(iter(cifar_train_loader))\n",
    "img_chart = viz.image(\n",
    "    np.random.rand(3,100,100),\n",
    "    opts=dict(title=\"Image\", caption='Silly random'),\n",
    ")\n",
    "viz_plot_img(img_chart, inputs[0], CIFAR_MEAN, CIFAR_STD)"
   ]
  },
  {
   "cell_type": "markdown",
   "metadata": {
    "heading_collapsed": true,
    "hidden": true
   },
   "source": [
    "## Experiment Class"
   ]
  },
  {
   "cell_type": "code",
   "execution_count": null,
   "metadata": {
    "collapsed": true,
    "hidden": true
   },
   "outputs": [],
   "source": [
    "import numpy as np\n",
    "import os\n",
    "import torch\n",
    "import visdom\n",
    "import shutil\n",
    "import sys\n",
    "from pathlib import Path\n",
    "\n",
    "\n",
    "class Experiment():\n",
    "    def __init__(self, name, root):\n",
    "        self.name = name\n",
    "        self.root = os.path.join(root,name)\n",
    "        self.epoch = 1\n",
    "        self.best_val_loss = sys.maxsize\n",
    "        self.best_val_loss_epoch = 1\n",
    "        self.weights_dir = os.path.join(self.root, 'weights')\n",
    "        self.history_dir = os.path.join(self.root, 'history')\n",
    "        self.results_dir = os.path.join(self.root, 'results')\n",
    "        self.latest_weights = os.path.join(self.weights_dir, 'latest_weights.pth')\n",
    "        self.latest_optimizer = os.path.join(self.weights_dir, 'latest_optim.pth')\n",
    "        self.best_weights_path = self.latest_weights\n",
    "        self.best_optimizer_path = self.latest_optimizer\n",
    "        self.train_history_fpath = os.path.join(self.history_dir, 'train.csv')\n",
    "        self.val_history_fpath = os.path.join(self.history_dir, 'val.csv')\n",
    "        self.test_history_fpath = os.path.join(self.history_dir, 'test.csv')\n",
    "        self.loss_history = {\n",
    "            'train': np.array([]),\n",
    "            'val': np.array([]),\n",
    "            'test': np.array([])\n",
    "        }\n",
    "        self.error_history = {\n",
    "            'train': np.array([]),\n",
    "            'val': np.array([]),\n",
    "            'test': np.array([])\n",
    "        }\n",
    "        self.viz = visdom.Visdom()\n",
    "        self.visdom_plots = self.init_visdom_plots()\n",
    "\n",
    "    def init(self):\n",
    "        print(\"Creating new experiment\")\n",
    "        self.init_dirs()\n",
    "        self.init_history_files()\n",
    "\n",
    "    def resume(self, model, optim, weights_fpath=None, optim_path=None):\n",
    "        print(\"Resuming existing experiment\")\n",
    "        if weights_fpath is None:\n",
    "            weights_fpath = self.latest_weights\n",
    "        if optim_path is None:\n",
    "            optim_path = self.latest_optimizer\n",
    "\n",
    "        model, state = self.load_weights(model, weights_fpath)\n",
    "        optim = self.load_optimizer(optim, optim_path)\n",
    "\n",
    "        self.best_val_loss = state['best_val_loss']\n",
    "        self.best_val_loss_epoch = state['best_val_loss_epoch']\n",
    "        self.epoch = state['last_epoch']+1\n",
    "        self.load_history_from_file('train')\n",
    "        self.load_history_from_file('val')\n",
    "\n",
    "        return model, optim\n",
    "\n",
    "    def init_dirs(self):\n",
    "        os.makedirs(self.weights_dir)\n",
    "        os.makedirs(self.history_dir)\n",
    "        os.makedirs(self.results_dir)\n",
    "\n",
    "    def init_history_files(self):\n",
    "        Path(self.train_history_fpath).touch()\n",
    "        Path(self.val_history_fpath).touch()\n",
    "        Path(self.test_history_fpath).touch()\n",
    "\n",
    "    def init_visdom_plots(self):\n",
    "        loss = self.init_viz_train_plot('loss')\n",
    "        error = self.init_viz_train_plot('error')\n",
    "        summary = self.init_viz_txt_plot('summary')\n",
    "        return {\n",
    "            'loss':loss,\n",
    "            'error':error,\n",
    "            'summary':summary\n",
    "        }\n",
    "\n",
    "    def init_viz_train_plot(self, title):\n",
    "        return self.viz.line(\n",
    "            X=np.array([1]),\n",
    "            Y=np.array([[1, 1]]),\n",
    "            opts=dict(\n",
    "                xlabel='epoch',\n",
    "                ylabel=title,\n",
    "                title=self.name+' '+title,\n",
    "                legend=['Train', 'Validation']\n",
    "            ),\n",
    "            env=self.name\n",
    "        )\n",
    "\n",
    "    def init_viz_txt_plot(self, title):\n",
    "        return self.viz.text(\n",
    "            \"Initializing.. \" + title,\n",
    "            env=self.name\n",
    "        )\n",
    "\n",
    "    def viz_epochs(self):\n",
    "        epochs = np.arange(1,self.epoch+1)\n",
    "        return np.stack([epochs, epochs],1)\n",
    "\n",
    "    def update_viz_loss_plot(self):\n",
    "        loss = np.stack([self.loss_history['train'],\n",
    "                         self.loss_history['val']],1)\n",
    "        window = self.visdom_plots['loss']\n",
    "        return self.viz.line(\n",
    "            X=self.viz_epochs(),\n",
    "            Y=loss,\n",
    "            win=window,\n",
    "            env=self.name,\n",
    "            opts=dict(\n",
    "                xlabel='epoch',\n",
    "                ylabel='loss',\n",
    "                title=self.name+' '+'loss',\n",
    "                legend=['Train', 'Validation']\n",
    "            ),\n",
    "        )\n",
    "\n",
    "    def update_viz_error_plot(self):\n",
    "        error = np.stack([self.error_history['train'],\n",
    "                         self.error_history['val']], 1)\n",
    "        window = self.visdom_plots['error']\n",
    "        return self.viz.line(\n",
    "            X=self.viz_epochs(),\n",
    "            Y=error,\n",
    "            win=window,\n",
    "            env=self.name,\n",
    "            opts=dict(\n",
    "                xlabel='epoch',\n",
    "                ylabel='error',\n",
    "                title=self.name+' '+'error',\n",
    "                legend=['Train', 'Validation']\n",
    "            )\n",
    "        )\n",
    "\n",
    "    def update_viz_summary_plot(self):\n",
    "        trn_loss = self.loss_history['train'][-1]\n",
    "        val_loss = self.loss_history['val'][-1]\n",
    "        trn_err = self.error_history['train'][-1]\n",
    "        val_err = self.error_history['val'][-1]\n",
    "        txt = (\"\"\"Epoch: %d\n",
    "            Train - Loss: %.3f Err: %.3f\n",
    "            Test - Loss: %.3f Err: %.3f\"\"\" % (self.epoch,\n",
    "            trn_loss, trn_err, tst_loss, tst_err))\n",
    "        window = self.visdom_plots['summary']\n",
    "        return self.viz.text(\n",
    "            txt,\n",
    "            win=window,\n",
    "            env=self.name\n",
    "        )\n",
    "\n",
    "    def load_history_from_file(self, dset_type):\n",
    "        fpath = os.path.join(self.history_dir, dset_type+'.csv')\n",
    "        data = np.loadtxt(fpath, delimiter=',').reshape(-1, 3)\n",
    "        self.loss_history[dset_type] = data[:,1]\n",
    "        self.error_history[dset_type] = data[:,2]\n",
    "\n",
    "    def append_history_to_file(self, dset_type, loss, error):\n",
    "        fpath = os.path.join(self.history_dir, dset_type+'.csv')\n",
    "        with open(fpath, 'a') as f:\n",
    "            f.write('{},{},{}\\n'.format(self.epoch, loss, error))\n",
    "\n",
    "    def save_history(self, dset_type, loss, error):\n",
    "        self.loss_history[dset_type] = np.append(\n",
    "            self.loss_history[dset_type], loss)\n",
    "        self.error_history[dset_type] = np.append(\n",
    "            self.error_history[dset_type], error)\n",
    "        self.append_history_to_file(dset_type, loss, error)\n",
    "\n",
    "        if dset_type == 'val' and self.is_best_loss(loss):\n",
    "            self.best_val_loss = loss\n",
    "            self.best_val_loss_epoch = self.epoch\n",
    "\n",
    "    def is_best_loss(self, loss):\n",
    "        return loss < self.best_val_loss\n",
    "\n",
    "    def save_weights(self, model, trn_loss, val_loss, trn_err, val_err):\n",
    "        weights_fname = self.name+'-weights-%d-%.3f-%.3f-%.3f-%.3f.pth' % (\n",
    "            epoch, trn_loss, trn_err, val_loss, val_err)\n",
    "        weights_fpath = os.path.join(self.weights_dir, weights_fname)\n",
    "        torch.save({\n",
    "                'last_epoch': self.epoch,\n",
    "                'trn_loss': trn_loss,\n",
    "                'val_loss': val_loss,\n",
    "                'trn_err': trn_err,\n",
    "                'val_err': val_err,\n",
    "                'best_val_loss': self.best_val_loss,\n",
    "                'best_val_loss_epoch': self.best_val_loss_epoch,\n",
    "                'experiment': self.name,\n",
    "                'state_dict': model.state_dict()\n",
    "            }, weights_fpath )\n",
    "        shutil.copyfile(weights_fpath, self.latest_weights)\n",
    "        if self.is_best_loss(val_loss):\n",
    "            self.best_weights_path = weights_fpath\n",
    "\n",
    "    def load_weights(self, model, fpath):\n",
    "        print(\"loading weights '{}'\".format(fpath))\n",
    "        state = torch.load(fpath)\n",
    "        model.load_state_dict(state['state_dict'])\n",
    "        print (state['trn_err'], state['val_loss'], state['val_err'])\n",
    "        print(\"loaded weights from experiment %s (last_epoch %d, trn_loss %s, trn_err %s, val_loss %s, val_err %s)\" % (\n",
    "                  self.name, state['last_epoch'], state['trn_loss'],\n",
    "                    state['trn_err'], state['val_loss'], state['val_err']))\n",
    "        return model, state\n",
    "\n",
    "    def save_optimizer(self, optimizer, val_loss):\n",
    "        optim_fname = self.name+'-optim-%d.pth' % (epoch)\n",
    "        optim_fpath = os.path.join(self.weights_dir, optim_fname)\n",
    "        torch.save({\n",
    "                'last_epoch': self.epoch,\n",
    "                'experiment': self.name,\n",
    "                'state_dict': optimizer.state_dict()\n",
    "            }, optim_fpath )\n",
    "        shutil.copyfile(optim_fpath, self.latest_optimizer)\n",
    "        if self.is_best_loss(val_loss):\n",
    "            self.best_optimizer_path = optim_path\n",
    "\n",
    "    def load_optimizer(self, optimizer, fpath):\n",
    "        print(\"loading optimizer '{}'\".format(fpath))\n",
    "        optim = torch.load(fpath)\n",
    "        optimizer.load_state_dict(optim['state_dict'])\n",
    "        print(\"loaded optimizer from session {}, last_epoch {}\"\n",
    "              .format(optim['experiment'], optim['last_epoch']))\n",
    "        return optim"
   ]
  },
  {
   "cell_type": "markdown",
   "metadata": {
    "heading_collapsed": true
   },
   "source": [
    "# Examples\n",
    "\n",
    "Links To Pytorch Implementations of cool new models"
   ]
  },
  {
   "cell_type": "markdown",
   "metadata": {
    "heading_collapsed": true,
    "hidden": true
   },
   "source": [
    "## CNNs"
   ]
  },
  {
   "cell_type": "markdown",
   "metadata": {
    "hidden": true
   },
   "source": [
    " * [VGG](https://github.com/pytorch/vision/blob/master/torchvision/models/vgg.py)\n",
    " * [ResNet](https://github.com/pytorch/vision/blob/master/torchvision/models/resnet.py)\n",
    " * [InceptionNet](https://github.com/pytorch/vision/blob/master/torchvision/models/inception.py)\n",
    " * [SqeezeNet](https://github.com/pytorch/vision/blob/master/torchvision/models/squeezenet.py)\n",
    " * [DenseNet](https://github.com/pytorch/vision/blob/master/torchvision/models/densenet.py)\n",
    " * [FCDenseNet (Tiramisu)](https://github.com/bfortuner/pytorch_tiramisu/blob/master/tiramisu-pytorch.ipynb)\n",
    " * [Sub-pixel CNN (superresolution)](https://github.com/pytorch/examples/tree/master/super_resolution)"
   ]
  },
  {
   "cell_type": "markdown",
   "metadata": {
    "hidden": true
   },
   "source": [
    "## GANs"
   ]
  },
  {
   "cell_type": "markdown",
   "metadata": {
    "hidden": true
   },
   "source": [
    "* [DCGAN](https://github.com/pytorch/examples/tree/master/dcgan)\n",
    "* [Wasserstein GAN](https://github.com/martinarjovsky/WassersteinGAN)"
   ]
  },
  {
   "cell_type": "markdown",
   "metadata": {
    "heading_collapsed": true,
    "hidden": true
   },
   "source": [
    "## RNNs"
   ]
  },
  {
   "cell_type": "code",
   "execution_count": null,
   "metadata": {
    "collapsed": true,
    "hidden": true
   },
   "outputs": [],
   "source": []
  },
  {
   "cell_type": "markdown",
   "metadata": {
    "hidden": true
   },
   "source": [
    "## Other"
   ]
  },
  {
   "cell_type": "markdown",
   "metadata": {
    "hidden": true
   },
   "source": [
    "* [Pytorch Examples](https://github.com/pytorch/examples)"
   ]
  },
  {
   "cell_type": "code",
   "execution_count": null,
   "metadata": {
    "collapsed": true,
    "hidden": true
   },
   "outputs": [],
   "source": []
  }
 ],
 "metadata": {
  "kernelspec": {
   "display_name": "Python 3",
   "language": "python",
   "name": "python3"
  },
  "language_info": {
   "codemirror_mode": {
    "name": "ipython",
    "version": 3
   },
   "file_extension": ".py",
   "mimetype": "text/x-python",
   "name": "python",
   "nbconvert_exporter": "python",
   "pygments_lexer": "ipython3",
   "version": "3.6.0"
  },
  "latex_envs": {
   "LaTeX_envs_menu_present": true,
   "autocomplete": true,
   "bibliofile": "biblio.bib",
   "cite_by": "apalike",
   "current_citInitial": 1,
   "eqLabelWithNumbers": true,
   "eqNumInitial": 1,
   "hotkeys": {
    "equation": "Ctrl-E",
    "itemize": "Ctrl-I"
   },
   "labels_anchors": false,
   "latex_user_defs": false,
   "report_style_numbering": false,
   "user_envs_cfg": false
  },
  "toc": {
   "colors": {
    "hover_highlight": "#DAA520",
    "running_highlight": "#FF0000",
    "selected_highlight": "#FFD700"
   },
   "moveMenuLeft": true,
   "nav_menu": {
    "height": "192px",
    "width": "254px"
   },
   "navigate_menu": true,
   "number_sections": true,
   "sideBar": true,
   "threshold": 4,
   "toc_cell": false,
   "toc_section_display": "block",
   "toc_window_display": false,
   "widenNotebook": false
  }
 },
 "nbformat": 4,
 "nbformat_minor": 2
}
